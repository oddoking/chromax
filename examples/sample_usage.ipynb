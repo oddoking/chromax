{
 "cells": [
  {
   "cell_type": "code",
   "execution_count": 6,
   "metadata": {},
   "source": [
    "from chromax import Simulator\n",
    "from chromax.sample_data import genetic_map, genome\n",
    "import numpy as np\n",
    "\n",
    "simulator = Simulator(genetic_map)"
   ],
   "outputs": []
  },
  {
   "cell_type": "code",
   "execution_count": 7,
   "metadata": {},
   "source": [
    "population = simulator.load_population(genome)\n",
    "simulator.GEBV(population).mean()"
   ],
   "outputs": []
  },
  {
   "cell_type": "code",
   "execution_count": 8,
   "metadata": {},
   "source": [
    "selected_ind, _ = simulator.select(population, k=10)\n",
    "simulator.GEBV(selected_ind).mean()"
   ],
   "outputs": []
  },
  {
   "cell_type": "code",
   "execution_count": 9,
   "metadata": {},
   "source": [
    "new_pop = simulator.diallel(selected_ind, n_offspring=10)\n",
    "len(new_pop)"
   ],
   "outputs": []
  },
  {
   "cell_type": "code",
   "execution_count": 10,
   "metadata": {},
   "source": [
    "cross_indices = np.array([\n",
    "      [1, 5], [3, 10], [100, 2], [7, 93], [28, 41]\n",
    "    ])\n",
    "population = simulator.cross(new_pop[cross_indices])\n",
    "len(population)"
   ],
   "outputs": []
  },
  {
   "cell_type": "code",
   "execution_count": 11,
   "metadata": {},
   "source": [
    "dh_pop = simulator.double_haploid(population)\n",
    "simulator.save_population(dh_pop, 'dh_genome.txt')"
   ],
   "outputs": []
  }
 ],
 "metadata": {
  "kernelspec": {
   "display_name": "Python 3",
   "language": "python",
   "name": "python3"
  },
  "language_info": {
   "codemirror_mode": {
    "name": "ipython",
    "version": 3
   },
   "file_extension": ".py",
   "mimetype": "text/x-python",
   "name": "python",
   "nbconvert_exporter": "python",
   "pygments_lexer": "ipython3",
   "version": "3.11.3"
  },
  "orig_nbformat": 4
 },
 "nbformat": 4,
 "nbformat_minor": 2
}
